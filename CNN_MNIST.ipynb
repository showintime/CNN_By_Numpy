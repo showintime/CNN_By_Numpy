{
 "cells": [
  {
   "cell_type": "code",
   "execution_count": 1,
   "metadata": {},
   "outputs": [],
   "source": [
    "\n",
    "import numpy as np\n",
    "\n",
    "import math\n",
    "\n",
    "import struct\n",
    "\n",
    "import random\n",
    "\n",
    "import time\n",
    "\n",
    "import cv2\n",
    "import pickle\n",
    "from tqdm import tqdm_notebook\n",
    "import matplotlib.pyplot as plt\n"
   ]
  },
  {
   "cell_type": "code",
   "execution_count": 2,
   "metadata": {},
   "outputs": [],
   "source": [
    "data_path='./datas/'\n",
    "\n",
    "train_image_path=data_path+'train-images.idx3-ubyte'\n",
    "train_label_path=data_path+'train-labels.idx1-ubyte'\n",
    "\n",
    "test_image_path=data_path+'t10k-images.idx3-ubyte'\n",
    "test_label_path=data_path+'t10k-labels.idx1-ubyte'\n",
    "\n",
    "\n",
    "train_num=50000\n",
    "validate_num=10000\n",
    "test_num=10000\n",
    "\n",
    "with open(train_image_path,'rb') as f:\n",
    "    struct.unpack('>4i',f.read(16))\n",
    "    tem_image=np.fromfile(f,dtype=np.uint8).reshape(-1,784)/255\n",
    "    train_image=tem_image[:train_num]\n",
    "    validate_image=tem_image[train_num:]\n",
    "    \n",
    "with open(test_image_path,'rb') as f:\n",
    "    struct.unpack('>4i',f.read(16))\n",
    "    test_image=np.fromfile(f,dtype=np.uint8).reshape(-1,784)/255\n",
    "    \n",
    "\n",
    "with open(train_label_path,'rb') as f:\n",
    "    struct.unpack('>2i',f.read(8))\n",
    "    tem_label=np.fromfile(f,dtype=np.uint8)\n",
    "    train_label=tem_label[:train_num]\n",
    "    validate_label=tem_label[train_num:]\n",
    "\n",
    "with open(test_label_path,'rb') as f:\n",
    "    struct.unpack('>2i',f.read(8))\n",
    "    test_label=np.fromfile(f,dtype=np.uint8)    \n",
    "    \n",
    "\n",
    "dataset={\n",
    "    'train':{\n",
    "        'image':train_image,\n",
    "        'label':train_label,\n",
    "        'num':train_num\n",
    "    },\n",
    "    'validate':{\n",
    "        'image':validate_image,\n",
    "        'label':validate_label,\n",
    "        'num':validate_num\n",
    "    },\n",
    "    'test':{\n",
    "        'image':test_image,\n",
    "        'label':test_label,\n",
    "        'num':test_num\n",
    "    }\n",
    "}\n",
    "    "
   ]
  },
  {
   "cell_type": "code",
   "execution_count": null,
   "metadata": {},
   "outputs": [],
   "source": []
  },
  {
   "cell_type": "code",
   "execution_count": null,
   "metadata": {},
   "outputs": [],
   "source": []
  },
  {
   "cell_type": "code",
   "execution_count": 79,
   "metadata": {},
   "outputs": [],
   "source": [
    "def softmax(x):\n",
    "    #这里减去x.max()为了防止指数爆炸，并不会影响结果\n",
    "    exp=np.exp(x-x.max())\n",
    "    return exp/exp.sum()\n",
    "\n",
    "def d_softmax(x):\n",
    "    tem=softmax(x)\n",
    "    return np.diag(tem)-np.outer(tem,tem)\n"
   ]
  },
  {
   "cell_type": "code",
   "execution_count": null,
   "metadata": {},
   "outputs": [],
   "source": []
  },
  {
   "cell_type": "code",
   "execution_count": null,
   "metadata": {},
   "outputs": [],
   "source": []
  },
  {
   "cell_type": "code",
   "execution_count": null,
   "metadata": {},
   "outputs": [],
   "source": []
  },
  {
   "cell_type": "code",
   "execution_count": null,
   "metadata": {},
   "outputs": [],
   "source": []
  },
  {
   "cell_type": "markdown",
   "metadata": {},
   "source": [
    "# NEW"
   ]
  },
  {
   "cell_type": "code",
   "execution_count": 2,
   "metadata": {},
   "outputs": [],
   "source": [
    "\n",
    "import numpy\n",
    "\n",
    "import math\n",
    "\n",
    "import struct\n",
    "\n",
    "import random\n",
    "\n",
    "import time\n",
    "\n",
    "import cv2\n",
    "import pickle\n",
    "from tqdm import tqdm_notebook\n",
    "import matplotlib.pyplot as plt\n"
   ]
  },
  {
   "cell_type": "code",
   "execution_count": 1,
   "metadata": {},
   "outputs": [],
   "source": [
    "'''\n",
    "image like (28x28x3)  HWC\n",
    "kernel like (28x28x3x50)  HWCN\n",
    "stride is ...\n",
    "number is equal to kernel.shape[-1]  N\n",
    "'''\n",
    "def convolution(image,kernel,kernelb,stride):\n",
    "    \n",
    "    image=image.reshape((image.shape[0],image.shape[1],image.shape[2],1))\n",
    "    \n",
    "    feature_maps=numpy.empty(((image.shape[0]-kernel.shape[0])//stride[0]+1,(image.shape[1]-kernel.shape[1])//stride[1]+1,kernel.shape[-1]))\n",
    "    \n",
    "    for i in range(0,image.shape[0]-kernel.shape[0]+1,stride[0]):\n",
    "        for j in range(0,image.shape[1]-kernel.shape[1]+1,stride[1]):\n",
    "            \n",
    "            receptive_field=image[i:i+kernel.shape[0],j:j+kernel.shape[1]]\n",
    "            \n",
    "            tem=receptive_field*kernel\n",
    "            \n",
    "            feature_maps[i//stride[0],j//stride[1]]=tem.sum(axis=(0,1,2))+kernelb\n",
    "            \n",
    "    return feature_maps\n",
    "            "
   ]
  },
  {
   "cell_type": "code",
   "execution_count": 25,
   "metadata": {},
   "outputs": [],
   "source": [
    "def pooling(image,shape,stride):\n",
    "    pooling_maps=numpy.empty(((image.shape[0]-shape[0])//stride[0]+1,(image.shape[1]-shape[1])//stride[1]+1,image.shape[2]))\n",
    "    \n",
    "    for i in range(0,image.shape[0]-shape[0]+1,stride[0]):\n",
    "        for j in range(0,image.shape[1]-shape[1]+1,stride[1]):\n",
    "            \n",
    "            pooling_field=image[i:i+shape[0],j:j+shape[1]]\n",
    "            \n",
    "            pooling_maps[i//stride[0],j//stride[1]]=numpy.amax(pooling_field,axis=(0,1))"
   ]
  },
  {
   "cell_type": "code",
   "execution_count": null,
   "metadata": {},
   "outputs": [],
   "source": [
    "#Full Connextion Layer\n",
    "#FC (Inner Product)\n",
    "def InnerProduct(dL,image,w,b):\n",
    "    tem=image*w\n",
    "    sum_axis=tuple(range(len(image.shape)))\n",
    "    return tem.sum(axis=sum_axis)"
   ]
  },
  {
   "cell_type": "code",
   "execution_count": 4,
   "metadata": {},
   "outputs": [],
   "source": [
    "def ReLU(image):\n",
    "    return (numpy.abs(image)+image)/2"
   ]
  },
  {
   "cell_type": "code",
   "execution_count": 5,
   "metadata": {},
   "outputs": [],
   "source": [
    "def Softmax(image):\n",
    "    tem=numpy.exp(image)\n",
    "    return tem/tem.sum()"
   ]
  },
  {
   "cell_type": "code",
   "execution_count": 6,
   "metadata": {},
   "outputs": [],
   "source": [
    "def Loss(y,label):\n",
    "    dif=y-label\n",
    "    tem=dif*dif\n",
    "    return tem.sum()"
   ]
  },
  {
   "cell_type": "code",
   "execution_count": 7,
   "metadata": {},
   "outputs": [],
   "source": [
    "def dLoss(y,label):\n",
    "    dif=y-label\n",
    "    return 2*dif"
   ]
  },
  {
   "cell_type": "code",
   "execution_count": 22,
   "metadata": {},
   "outputs": [],
   "source": [
    "def dReLU(dL,image):\n",
    "    tem=1*(image>0)\n",
    "    return dL*tem"
   ]
  },
  {
   "cell_type": "code",
   "execution_count": 24,
   "metadata": {},
   "outputs": [],
   "source": [
    "def dSoftmax(dL,image):\n",
    "    tem=Softmax(image)\n",
    "    dS=numpy.diag(tem)-np.outer(tem,tem)\n",
    "    #这里先用矩阵乘法，以后可能要改成点积和\n",
    "    return numpy.dot(dL,dS)"
   ]
  },
  {
   "cell_type": "code",
   "execution_count": null,
   "metadata": {},
   "outputs": [],
   "source": [
    "def dInnerProduct(dL,image,w,b):\n",
    "    \n",
    "    \n",
    "    \n",
    "    \n",
    "    return dL"
   ]
  },
  {
   "cell_type": "code",
   "execution_count": null,
   "metadata": {},
   "outputs": [],
   "source": []
  },
  {
   "cell_type": "code",
   "execution_count": null,
   "metadata": {},
   "outputs": [],
   "source": []
  },
  {
   "cell_type": "code",
   "execution_count": null,
   "metadata": {},
   "outputs": [],
   "source": []
  },
  {
   "cell_type": "code",
   "execution_count": null,
   "metadata": {},
   "outputs": [],
   "source": [
    "def dconvolution():\n",
    "    "
   ]
  },
  {
   "cell_type": "code",
   "execution_count": null,
   "metadata": {},
   "outputs": [],
   "source": []
  },
  {
   "cell_type": "code",
   "execution_count": null,
   "metadata": {},
   "outputs": [],
   "source": []
  }
 ],
 "metadata": {
  "kernelspec": {
   "display_name": "Python 3",
   "language": "python",
   "name": "python3"
  },
  "language_info": {
   "codemirror_mode": {
    "name": "ipython",
    "version": 3
   },
   "file_extension": ".py",
   "mimetype": "text/x-python",
   "name": "python",
   "nbconvert_exporter": "python",
   "pygments_lexer": "ipython3",
   "version": "3.7.3"
  }
 },
 "nbformat": 4,
 "nbformat_minor": 2
}
