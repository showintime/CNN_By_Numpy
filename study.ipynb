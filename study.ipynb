{
 "cells": [
  {
   "cell_type": "code",
   "execution_count": 1,
   "metadata": {},
   "outputs": [],
   "source": [
    "import numpy"
   ]
  },
  {
   "cell_type": "code",
   "execution_count": 4,
   "metadata": {},
   "outputs": [],
   "source": [
    "?numpy.random.randint"
   ]
  },
  {
   "cell_type": "code",
   "execution_count": 100,
   "metadata": {},
   "outputs": [],
   "source": [
    "arr1=numpy.random.randint(0,10,(4,2,3))\n",
    "arr2=numpy.random.randint(0,10,(4,2,3))"
   ]
  },
  {
   "cell_type": "code",
   "execution_count": 103,
   "metadata": {},
   "outputs": [
    {
     "name": "stdout",
     "output_type": "stream",
     "text": [
      "arr1:\n",
      " [[[9 2 6]\n",
      "  [2 2 6]]\n",
      "\n",
      " [[8 4 0]\n",
      "  [3 8 0]]\n",
      "\n",
      " [[0 1 1]\n",
      "  [7 4 6]]\n",
      "\n",
      " [[9 6 8]\n",
      "  [2 9 8]]] \n",
      " arr2:\n",
      " [[[7 6 6]\n",
      "  [2 0 9]]\n",
      "\n",
      " [[6 8 8]\n",
      "  [6 3 7]]\n",
      "\n",
      " [[0 4 4]\n",
      "  [4 8 2]]\n",
      "\n",
      " [[9 7 0]\n",
      "  [8 3 5]]]\n"
     ]
    }
   ],
   "source": [
    "print('arr1:\\n',arr1,'\\n','arr2:\\n',arr2)"
   ]
  },
  {
   "cell_type": "code",
   "execution_count": 122,
   "metadata": {},
   "outputs": [
    {
     "name": "stdout",
     "output_type": "stream",
     "text": [
      "nb:\n",
      " [7 2 6 6 0 4 9 8 6 0 8 3 4 8 7 3 6 9 8 7 4 2 0 5]\n"
     ]
    }
   ],
   "source": [
    "nb=arr2.reshape((-1,3)).reshape((-1),order='F')\n",
    "#na=arr1.reshape(-1)\n",
    "#print('na:\\n',na)\n",
    "print('nb:\\n',nb)"
   ]
  },
  {
   "cell_type": "code",
   "execution_count": 106,
   "metadata": {},
   "outputs": [
    {
     "data": {
      "text/plain": [
       "577"
      ]
     },
     "execution_count": 106,
     "metadata": {},
     "output_type": "execute_result"
    }
   ],
   "source": [
    "nb@na"
   ]
  },
  {
   "cell_type": "code",
   "execution_count": 53,
   "metadata": {},
   "outputs": [
    {
     "name": "stdout",
     "output_type": "stream",
     "text": [
      "[[8 2 4]\n",
      " [8 0 0]\n",
      " [7 1 8]\n",
      " [4 2 0]\n",
      " [2 6 3]\n",
      " [1 2 0]\n",
      " [6 9 3]\n",
      " [8 0 9]]\n"
     ]
    }
   ],
   "source": [
    "a=arr1.reshape(8,3)\n",
    "print(a)"
   ]
  },
  {
   "cell_type": "code",
   "execution_count": 56,
   "metadata": {},
   "outputs": [
    {
     "name": "stdout",
     "output_type": "stream",
     "text": [
      "[[8 6 8 3 2 2 9 5]\n",
      " [2 8 6 1 1 6 8 1]\n",
      " [7 6 4 9 9 0 0 4]]\n"
     ]
    }
   ],
   "source": [
    "b=arr2.reshape(8,3)\n",
    "print(b.T)"
   ]
  },
  {
   "cell_type": "code",
   "execution_count": 62,
   "metadata": {},
   "outputs": [
    {
     "data": {
      "text/plain": [
       "array([585, 602, 592, 397, 353, 220, 572, 350])"
      ]
     },
     "execution_count": 62,
     "metadata": {},
     "output_type": "execute_result"
    }
   ],
   "source": [
    "#这样会多计算 第二层卷积与图形的第一个channel点积\n",
    "sum(numpy.dot(a,b.T))"
   ]
  },
  {
   "cell_type": "code",
   "execution_count": 61,
   "metadata": {},
   "outputs": [
    {
     "data": {
      "text/plain": [
       "array([688, 319, 389])"
      ]
     },
     "execution_count": 61,
     "metadata": {},
     "output_type": "execute_result"
    }
   ],
   "source": [
    "#这样是符合卷积的计算的\n",
    "sum(numpy.dot(b.T,a))"
   ]
  },
  {
   "cell_type": "code",
   "execution_count": 26,
   "metadata": {},
   "outputs": [],
   "source": [
    "arr1=arr1.reshape(1,12)"
   ]
  },
  {
   "cell_type": "code",
   "execution_count": 32,
   "metadata": {},
   "outputs": [],
   "source": [
    "arr2=arr2.reshape(12,1)"
   ]
  },
  {
   "cell_type": "code",
   "execution_count": 33,
   "metadata": {},
   "outputs": [
    {
     "name": "stdout",
     "output_type": "stream",
     "text": [
      "arr1:\n",
      " [[5 3 7 9 0 2 0 3 7 5 2 3]] \n",
      " arr2:\n",
      " [[8]\n",
      " [9]\n",
      " [1]\n",
      " [9]\n",
      " [8]\n",
      " [8]\n",
      " [8]\n",
      " [1]\n",
      " [8]\n",
      " [0]\n",
      " [9]\n",
      " [3]]\n"
     ]
    }
   ],
   "source": [
    "print('arr1:\\n',arr1,'\\n','arr2:\\n',arr2)"
   ]
  },
  {
   "cell_type": "code",
   "execution_count": 34,
   "metadata": {},
   "outputs": [
    {
     "data": {
      "text/plain": [
       "array([[257]])"
      ]
     },
     "execution_count": 34,
     "metadata": {},
     "output_type": "execute_result"
    }
   ],
   "source": [
    "numpy.dot(arr1,arr2)"
   ]
  },
  {
   "cell_type": "code",
   "execution_count": 94,
   "metadata": {},
   "outputs": [],
   "source": [
    "?numpy.reshape"
   ]
  },
  {
   "cell_type": "code",
   "execution_count": 99,
   "metadata": {},
   "outputs": [
    {
     "data": {
      "text/plain": [
       "array([[[[3, 0, 9, 0, 9, 8],\n",
       "         [1, 2, 3, 0, 8, 7],\n",
       "         [2, 4, 7, 9, 0, 2]],\n",
       "\n",
       "        [[3, 0, 4, 9, 7, 7],\n",
       "         [0, 5, 0, 9, 8, 4],\n",
       "         [1, 8, 9, 2, 0, 4]],\n",
       "\n",
       "        [[2, 9, 0, 8, 5, 5],\n",
       "         [8, 9, 1, 9, 9, 3],\n",
       "         [7, 6, 5, 4, 6, 5]]],\n",
       "\n",
       "\n",
       "       [[[8, 8, 6, 3, 7, 8],\n",
       "         [4, 8, 3, 6, 4, 9],\n",
       "         [2, 5, 4, 2, 2, 7]],\n",
       "\n",
       "        [[8, 9, 0, 1, 6, 2],\n",
       "         [8, 7, 0, 2, 4, 6],\n",
       "         [7, 8, 9, 1, 7, 7]],\n",
       "\n",
       "        [[9, 9, 1, 5, 4, 1],\n",
       "         [1, 6, 2, 9, 5, 9],\n",
       "         [7, 6, 3, 2, 7, 0]]],\n",
       "\n",
       "\n",
       "       [[[3, 7, 3, 4, 1, 4],\n",
       "         [1, 4, 5, 0, 9, 6],\n",
       "         [3, 5, 2, 1, 7, 5]],\n",
       "\n",
       "        [[2, 4, 1, 7, 5, 8],\n",
       "         [6, 1, 3, 3, 3, 4],\n",
       "         [3, 2, 3, 9, 1, 3]],\n",
       "\n",
       "        [[6, 5, 6, 8, 9, 6],\n",
       "         [1, 8, 6, 3, 3, 1],\n",
       "         [0, 2, 9, 3, 6, 3]]],\n",
       "\n",
       "\n",
       "       [[[5, 3, 3, 4, 0, 8],\n",
       "         [9, 9, 8, 0, 7, 9],\n",
       "         [5, 2, 4, 3, 8, 8]],\n",
       "\n",
       "        [[7, 1, 0, 4, 2, 0],\n",
       "         [2, 3, 0, 7, 4, 5],\n",
       "         [4, 1, 7, 4, 2, 9]],\n",
       "\n",
       "        [[5, 5, 4, 1, 5, 1],\n",
       "         [1, 7, 7, 2, 6, 4],\n",
       "         [6, 7, 4, 4, 2, 8]]],\n",
       "\n",
       "\n",
       "       [[[6, 3, 8, 7, 3, 6],\n",
       "         [5, 8, 4, 9, 4, 1],\n",
       "         [1, 0, 5, 9, 7, 7]],\n",
       "\n",
       "        [[3, 9, 5, 8, 7, 3],\n",
       "         [9, 8, 1, 4, 8, 9],\n",
       "         [7, 7, 9, 1, 9, 2]],\n",
       "\n",
       "        [[4, 1, 6, 3, 2, 9],\n",
       "         [4, 7, 1, 2, 4, 4],\n",
       "         [2, 7, 4, 7, 7, 3]]],\n",
       "\n",
       "\n",
       "       [[[9, 0, 7, 2, 4, 2],\n",
       "         [7, 4, 7, 8, 1, 8],\n",
       "         [5, 7, 6, 1, 9, 1]],\n",
       "\n",
       "        [[9, 5, 6, 6, 0, 1],\n",
       "         [9, 7, 5, 7, 1, 9],\n",
       "         [7, 0, 7, 7, 9, 5]],\n",
       "\n",
       "        [[8, 5, 1, 6, 1, 6],\n",
       "         [0, 6, 9, 7, 4, 4],\n",
       "         [6, 8, 0, 6, 1, 8]]],\n",
       "\n",
       "\n",
       "       [[[5, 3, 7, 9, 2, 1],\n",
       "         [3, 8, 6, 0, 1, 0],\n",
       "         [1, 5, 8, 0, 6, 9]],\n",
       "\n",
       "        [[1, 6, 5, 4, 2, 0],\n",
       "         [4, 3, 2, 8, 2, 3],\n",
       "         [1, 5, 1, 4, 7, 5]],\n",
       "\n",
       "        [[4, 4, 0, 7, 9, 9],\n",
       "         [7, 2, 0, 8, 5, 5],\n",
       "         [4, 6, 9, 5, 9, 5]]],\n",
       "\n",
       "\n",
       "       [[[8, 0, 9, 9, 4, 1],\n",
       "         [4, 4, 6, 5, 0, 5],\n",
       "         [5, 0, 0, 2, 3, 9]],\n",
       "\n",
       "        [[4, 5, 6, 8, 4, 2],\n",
       "         [1, 3, 8, 9, 8, 7],\n",
       "         [9, 7, 4, 6, 0, 8]],\n",
       "\n",
       "        [[2, 7, 7, 2, 6, 6],\n",
       "         [3, 9, 7, 7, 9, 1],\n",
       "         [4, 8, 7, 1, 8, 0]]],\n",
       "\n",
       "\n",
       "       [[[5, 3, 9, 2, 1, 0],\n",
       "         [7, 9, 1, 9, 6, 0],\n",
       "         [3, 8, 2, 7, 6, 4]],\n",
       "\n",
       "        [[3, 6, 2, 7, 7, 4],\n",
       "         [8, 0, 2, 0, 4, 4],\n",
       "         [0, 8, 6, 8, 9, 8]],\n",
       "\n",
       "        [[6, 8, 1, 1, 3, 8],\n",
       "         [3, 4, 5, 7, 7, 3],\n",
       "         [8, 4, 5, 0, 5, 3]]],\n",
       "\n",
       "\n",
       "       [[[7, 0, 7, 7, 3, 6],\n",
       "         [1, 1, 2, 4, 3, 2],\n",
       "         [1, 5, 6, 2, 4, 6]],\n",
       "\n",
       "        [[5, 0, 8, 1, 6, 3],\n",
       "         [5, 6, 5, 4, 9, 4],\n",
       "         [6, 9, 0, 9, 0, 7]],\n",
       "\n",
       "        [[0, 6, 0, 1, 4, 3],\n",
       "         [5, 4, 6, 3, 3, 1],\n",
       "         [4, 0, 1, 6, 3, 0]]]])"
      ]
     },
     "execution_count": 99,
     "metadata": {},
     "output_type": "execute_result"
    }
   ],
   "source": [
    "\n",
    "arr=numpy.random.randint(0,10,(10,3,3,6))\n",
    "arr"
   ]
  },
  {
   "cell_type": "code",
   "execution_count": 108,
   "metadata": {},
   "outputs": [
    {
     "data": {
      "text/plain": [
       "array([[3, 1, 2, 3, 0, 1, 2, 8, 7, 0, 2, 4, 0, 5, 8, 9, 9, 6, 9, 3, 7, 4,\n",
       "        0, 9, 0, 1, 5, 0, 0, 9, 9, 9, 2, 8, 9, 4, 9, 8, 0, 7, 8, 0, 5, 9,\n",
       "        6, 8, 7, 2, 7, 4, 4, 5, 3, 5],\n",
       "       [8, 4, 2, 8, 8, 7, 9, 1, 7, 8, 8, 5, 9, 7, 8, 9, 6, 6, 6, 3, 4, 0,\n",
       "        0, 9, 1, 2, 3, 3, 6, 2, 1, 2, 1, 5, 9, 2, 7, 4, 2, 6, 4, 7, 4, 5,\n",
       "        7, 8, 9, 7, 2, 6, 7, 1, 9, 0],\n",
       "       [3, 1, 3, 2, 6, 3, 6, 1, 0, 7, 4, 5, 4, 1, 2, 5, 8, 2, 3, 5, 2, 1,\n",
       "        3, 3, 6, 6, 9, 4, 0, 1, 7, 3, 9, 8, 3, 3, 1, 9, 7, 5, 3, 1, 9, 3,\n",
       "        6, 4, 6, 5, 8, 4, 3, 6, 1, 3],\n",
       "       [5, 9, 5, 7, 2, 4, 5, 1, 6, 3, 9, 2, 1, 3, 1, 5, 7, 7, 3, 8, 4, 0,\n",
       "        0, 7, 4, 7, 4, 4, 0, 3, 4, 7, 4, 1, 2, 4, 0, 7, 8, 2, 4, 2, 5, 6,\n",
       "        2, 8, 9, 8, 0, 5, 9, 1, 4, 8],\n",
       "       [6, 5, 1, 3, 9, 7, 4, 4, 2, 3, 8, 0, 9, 8, 7, 1, 7, 7, 8, 4, 5, 5,\n",
       "        1, 9, 6, 1, 4, 7, 9, 9, 8, 4, 1, 3, 2, 7, 3, 4, 7, 7, 8, 9, 2, 4,\n",
       "        7, 6, 1, 7, 3, 9, 2, 9, 4, 3],\n",
       "       [9, 7, 5, 9, 9, 7, 8, 0, 6, 0, 4, 7, 5, 7, 0, 5, 6, 8, 7, 7, 6, 6,\n",
       "        5, 7, 1, 9, 0, 2, 8, 1, 6, 7, 7, 6, 7, 6, 4, 1, 9, 0, 1, 9, 1, 4,\n",
       "        1, 2, 8, 1, 1, 9, 5, 6, 4, 8],\n",
       "       [5, 3, 1, 1, 4, 1, 4, 7, 4, 3, 8, 5, 6, 3, 5, 4, 2, 6, 7, 6, 8, 5,\n",
       "        2, 1, 0, 0, 9, 9, 0, 0, 4, 8, 4, 7, 8, 5, 2, 1, 6, 2, 2, 7, 9, 5,\n",
       "        9, 1, 0, 9, 0, 3, 5, 9, 5, 5],\n",
       "       [8, 4, 5, 4, 1, 9, 2, 3, 4, 0, 4, 0, 5, 3, 7, 7, 9, 8, 9, 6, 0, 6,\n",
       "        8, 4, 7, 7, 7, 9, 5, 2, 8, 9, 6, 2, 7, 1, 4, 0, 3, 4, 8, 0, 6, 9,\n",
       "        8, 1, 5, 9, 2, 7, 8, 6, 1, 0],\n",
       "       [5, 7, 3, 3, 8, 0, 6, 3, 8, 3, 9, 8, 6, 0, 8, 8, 4, 4, 9, 1, 2, 2,\n",
       "        2, 6, 1, 5, 5, 2, 9, 7, 7, 0, 8, 1, 7, 0, 1, 6, 6, 7, 4, 9, 3, 7,\n",
       "        5, 0, 0, 4, 4, 4, 8, 8, 3, 3],\n",
       "       [7, 1, 1, 5, 5, 6, 0, 5, 4, 0, 1, 5, 0, 6, 9, 6, 4, 0, 7, 2, 6, 8,\n",
       "        5, 0, 0, 6, 1, 7, 4, 2, 1, 4, 9, 1, 3, 6, 3, 3, 4, 6, 9, 0, 4, 3,\n",
       "        3, 6, 2, 6, 3, 4, 7, 3, 1, 0]])"
      ]
     },
     "execution_count": 108,
     "metadata": {},
     "output_type": "execute_result"
    }
   ],
   "source": [
    "arr.reshape((10,9,-1)).reshape((10,-1),order='F')"
   ]
  },
  {
   "cell_type": "code",
   "execution_count": 32,
   "metadata": {},
   "outputs": [
    {
     "data": {
      "text/plain": [
       "(3, 3, 6)"
      ]
     },
     "execution_count": 32,
     "metadata": {},
     "output_type": "execute_result"
    }
   ],
   "source": [
    "arr.shape"
   ]
  },
  {
   "cell_type": "code",
   "execution_count": 36,
   "metadata": {},
   "outputs": [],
   "source": [
    "carr=arr[0:2]"
   ]
  },
  {
   "cell_type": "code",
   "execution_count": null,
   "metadata": {},
   "outputs": [],
   "source": []
  },
  {
   "cell_type": "code",
   "execution_count": 37,
   "metadata": {},
   "outputs": [
    {
     "data": {
      "text/plain": [
       "array([[[3, 9, 7, 9, 8, 0],\n",
       "        [4, 6, 5, 0, 6, 2],\n",
       "        [1, 6, 1, 2, 6, 7]],\n",
       "\n",
       "       [[3, 6, 9, 5, 7, 8],\n",
       "        [3, 2, 4, 4, 2, 8],\n",
       "        [1, 8, 5, 5, 7, 3]]])"
      ]
     },
     "execution_count": 37,
     "metadata": {},
     "output_type": "execute_result"
    }
   ],
   "source": [
    "carr"
   ]
  },
  {
   "cell_type": "code",
   "execution_count": 38,
   "metadata": {},
   "outputs": [
    {
     "data": {
      "text/plain": [
       "array([[3, 9, 7, 9, 8, 0],\n",
       "       [4, 6, 5, 0, 6, 2],\n",
       "       [1, 6, 1, 2, 6, 7]])"
      ]
     },
     "execution_count": 38,
     "metadata": {},
     "output_type": "execute_result"
    }
   ],
   "source": [
    "carr[0]"
   ]
  },
  {
   "cell_type": "code",
   "execution_count": 39,
   "metadata": {},
   "outputs": [
    {
     "data": {
      "text/plain": [
       "array([[3, 6, 9, 5, 7, 8],\n",
       "       [3, 2, 4, 4, 2, 8],\n",
       "       [1, 8, 5, 5, 7, 3]])"
      ]
     },
     "execution_count": 39,
     "metadata": {},
     "output_type": "execute_result"
    }
   ],
   "source": [
    "carr[1]"
   ]
  },
  {
   "cell_type": "code",
   "execution_count": 40,
   "metadata": {},
   "outputs": [
    {
     "data": {
      "text/plain": [
       "array([3, 9, 7, 9, 8, 0])"
      ]
     },
     "execution_count": 40,
     "metadata": {},
     "output_type": "execute_result"
    }
   ],
   "source": [
    "carr[0][0]"
   ]
  },
  {
   "cell_type": "code",
   "execution_count": 41,
   "metadata": {},
   "outputs": [
    {
     "data": {
      "text/plain": [
       "array([4, 6, 5, 0, 6, 2])"
      ]
     },
     "execution_count": 41,
     "metadata": {},
     "output_type": "execute_result"
    }
   ],
   "source": [
    "carr[0][1]"
   ]
  },
  {
   "cell_type": "code",
   "execution_count": 42,
   "metadata": {},
   "outputs": [
    {
     "data": {
      "text/plain": [
       "array([[3, 9, 7, 9, 8, 0],\n",
       "       [4, 6, 5, 0, 6, 2]])"
      ]
     },
     "execution_count": 42,
     "metadata": {},
     "output_type": "execute_result"
    }
   ],
   "source": [
    "carr[0][0:2]"
   ]
  },
  {
   "cell_type": "code",
   "execution_count": 46,
   "metadata": {},
   "outputs": [],
   "source": [
    "q=carr[0:2,0:2,0:4]"
   ]
  },
  {
   "cell_type": "code",
   "execution_count": 47,
   "metadata": {},
   "outputs": [
    {
     "data": {
      "text/plain": [
       "array([[[3, 9, 7, 9],\n",
       "        [4, 6, 5, 0]],\n",
       "\n",
       "       [[3, 6, 9, 5],\n",
       "        [3, 2, 4, 4]]])"
      ]
     },
     "execution_count": 47,
     "metadata": {},
     "output_type": "execute_result"
    }
   ],
   "source": [
    "q"
   ]
  },
  {
   "cell_type": "code",
   "execution_count": 77,
   "metadata": {},
   "outputs": [],
   "source": [
    "p=q.reshape((-1,4)).reshape((-1,1),order='F')"
   ]
  },
  {
   "cell_type": "code",
   "execution_count": 79,
   "metadata": {},
   "outputs": [
    {
     "data": {
      "text/plain": [
       "array([[3],\n",
       "       [4],\n",
       "       [3],\n",
       "       [3],\n",
       "       [9],\n",
       "       [6],\n",
       "       [6],\n",
       "       [2],\n",
       "       [7],\n",
       "       [5],\n",
       "       [9],\n",
       "       [4],\n",
       "       [9],\n",
       "       [0],\n",
       "       [5],\n",
       "       [4]])"
      ]
     },
     "execution_count": 79,
     "metadata": {},
     "output_type": "execute_result"
    }
   ],
   "source": [
    "p"
   ]
  },
  {
   "cell_type": "code",
   "execution_count": 72,
   "metadata": {},
   "outputs": [
    {
     "data": {
      "text/plain": [
       "(16,)"
      ]
     },
     "execution_count": 72,
     "metadata": {},
     "output_type": "execute_result"
    }
   ],
   "source": [
    "p.T.shape"
   ]
  },
  {
   "cell_type": "code",
   "execution_count": 56,
   "metadata": {},
   "outputs": [],
   "source": [
    "w=p.reshape((-1,1))"
   ]
  },
  {
   "cell_type": "code",
   "execution_count": 70,
   "metadata": {},
   "outputs": [
    {
     "data": {
      "text/plain": [
       "(1, 16)"
      ]
     },
     "execution_count": 70,
     "metadata": {},
     "output_type": "execute_result"
    }
   ],
   "source": [
    "w.T.shape"
   ]
  },
  {
   "cell_type": "code",
   "execution_count": 66,
   "metadata": {},
   "outputs": [
    {
     "data": {
      "text/plain": [
       "array([493])"
      ]
     },
     "execution_count": 66,
     "metadata": {},
     "output_type": "execute_result"
    }
   ],
   "source": [
    "numpy.dot(p,w)"
   ]
  },
  {
   "cell_type": "code",
   "execution_count": 60,
   "metadata": {},
   "outputs": [],
   "source": [
    "dd=p@w"
   ]
  },
  {
   "cell_type": "code",
   "execution_count": 81,
   "metadata": {},
   "outputs": [],
   "source": [
    "fm=numpy.zeros((3,4))"
   ]
  },
  {
   "cell_type": "code",
   "execution_count": 82,
   "metadata": {},
   "outputs": [
    {
     "data": {
      "text/plain": [
       "array([[0., 0., 0., 0.],\n",
       "       [0., 0., 0., 0.],\n",
       "       [0., 0., 0., 0.]])"
      ]
     },
     "execution_count": 82,
     "metadata": {},
     "output_type": "execute_result"
    }
   ],
   "source": [
    "fm"
   ]
  },
  {
   "cell_type": "code",
   "execution_count": 89,
   "metadata": {},
   "outputs": [],
   "source": [
    "fm[2][2]=numpy.array(5)"
   ]
  },
  {
   "cell_type": "code",
   "execution_count": 90,
   "metadata": {},
   "outputs": [
    {
     "data": {
      "text/plain": [
       "array([[0., 0., 0., 0.],\n",
       "       [0., 0., 0., 0.],\n",
       "       [0., 0., 5., 0.]])"
      ]
     },
     "execution_count": 90,
     "metadata": {},
     "output_type": "execute_result"
    }
   ],
   "source": [
    "fm"
   ]
  },
  {
   "cell_type": "code",
   "execution_count": 91,
   "metadata": {},
   "outputs": [],
   "source": [
    "a=(3,4,6,8)\n",
    "b=(4,8,9,90)"
   ]
  },
  {
   "cell_type": "code",
   "execution_count": 94,
   "metadata": {},
   "outputs": [
    {
     "data": {
      "text/plain": [
       "(3, 43, 6, 8, 4, 8, 9, 90)"
      ]
     },
     "execution_count": 94,
     "metadata": {},
     "output_type": "execute_result"
    }
   ],
   "source": [
    "(3,43,6,8)+(4,8,9,90)"
   ]
  },
  {
   "cell_type": "code",
   "execution_count": 1,
   "metadata": {},
   "outputs": [],
   "source": [
    "import numpy"
   ]
  },
  {
   "cell_type": "code",
   "execution_count": 18,
   "metadata": {},
   "outputs": [],
   "source": [
    "arr1=numpy.arange(240).reshape(4,4,3,5)"
   ]
  },
  {
   "cell_type": "code",
   "execution_count": 19,
   "metadata": {},
   "outputs": [
    {
     "data": {
      "text/plain": [
       "(4, 4, 3, 5)"
      ]
     },
     "execution_count": 19,
     "metadata": {},
     "output_type": "execute_result"
    }
   ],
   "source": [
    "arr1.shape"
   ]
  },
  {
   "cell_type": "code",
   "execution_count": 22,
   "metadata": {},
   "outputs": [
    {
     "data": {
      "text/plain": [
       "(4, 4, 3)"
      ]
     },
     "execution_count": 22,
     "metadata": {},
     "output_type": "execute_result"
    }
   ],
   "source": [
    "arr1[:,:,...,0].shape"
   ]
  },
  {
   "cell_type": "code",
   "execution_count": 14,
   "metadata": {},
   "outputs": [],
   "source": [
    "arr2=arr1[:,1,1]"
   ]
  },
  {
   "cell_type": "code",
   "execution_count": 15,
   "metadata": {},
   "outputs": [],
   "source": [
    "arr2=arr2.reshape((-1,1,1,5))"
   ]
  },
  {
   "cell_type": "code",
   "execution_count": 26,
   "metadata": {},
   "outputs": [
    {
     "data": {
      "text/plain": [
       "(4, 1, 1, 5)"
      ]
     },
     "execution_count": 26,
     "metadata": {},
     "output_type": "execute_result"
    }
   ],
   "source": [
    "arr2.shape\n"
   ]
  },
  {
   "cell_type": "code",
   "execution_count": null,
   "metadata": {},
   "outputs": [],
   "source": []
  }
 ],
 "metadata": {
  "kernelspec": {
   "display_name": "Python 3",
   "language": "python",
   "name": "python3"
  },
  "language_info": {
   "codemirror_mode": {
    "name": "ipython",
    "version": 3
   },
   "file_extension": ".py",
   "mimetype": "text/x-python",
   "name": "python",
   "nbconvert_exporter": "python",
   "pygments_lexer": "ipython3",
   "version": "3.7.3"
  }
 },
 "nbformat": 4,
 "nbformat_minor": 2
}
