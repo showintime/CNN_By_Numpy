{
 "cells": [
  {
   "cell_type": "code",
   "execution_count": 6,
   "metadata": {},
   "outputs": [],
   "source": [
    "import numpy"
   ]
  },
  {
   "cell_type": "code",
   "execution_count": 3,
   "metadata": {},
   "outputs": [],
   "source": [
    "\n",
    "class Convolution_kernel:\n",
    "    def __init__(self):\n",
    "        pass\n",
    "    \n",
    "    #暂时先不写\n",
    "    class Same_kernel:\n",
    "        def __init__(self,shape,stride):\n",
    "            self.shape=shape\n",
    "            self.stride=stride\n",
    "            \n",
    "\n",
    "\n",
    "        def forward(self,input_X):\n",
    "            \n",
    "            pass\n",
    "        def back(self):\n",
    "            pass\n",
    "        \n",
    "    class Decrease_kernel:\n",
    "        def __init__(self,shape,stride,number):\n",
    "            self.number=number\n",
    "            self.shape=shape\n",
    "            self.stride=stride\n",
    "            self.kernel=numpy.random.rand(shape)\n",
    "            self.tkernel=self.kernel.reshape((-1,self.shape[-1])).reshape((-1,1),order='F')\n",
    "\n",
    "        def forward(self,input_X):\n",
    "            \n",
    "            feture_map=numpy.zeros((input_X.shape[0]-self.shape[0]+1,input_X.shape[1]-self.shape[1]+1,self.number))\n",
    "            for row in range(0,input_X.shape[0]-self.shape[0]+1,stride[0]):\n",
    "                for column in range(0,input_X.shape[1]-self.shape[1]+1,stride[1]):\n",
    "                    receptive_field=input_X[row:row+self.shape[0],column:column+self.shape[1]]\n",
    "                    receptive_field=receptive_field.reshape((-1,self.shape)).reshape((-1),order='F')\n",
    "                    feture_map[row][column]=numpy.dot(receptive_field,self.tkernel)\n",
    "            input_X.reshape((-1,input_X.shape(-1))).reshape((-1),order='F')\n",
    "            \n",
    "            \n",
    "            \n",
    "            \n",
    "            \n",
    "            pass\n",
    "        def back(self):\n",
    "            pass\n",
    "\n",
    "class Convolution_pooling:\n",
    "    def __init__(self):\n",
    "        pass\n",
    "    class Max_pooling:\n",
    "        \n",
    "        def __init__(self,shape,stride):\n",
    "            self.shape=shape\n",
    "            self.stride=stride\n",
    "    \n",
    "    class Average_pooling:\n",
    "        def __init__(self,shape,stride):\n",
    "            self.shape=shape\n",
    "            self.stride=stride\n",
    "    \n",
    "    \n",
    "class Full_connection:\n",
    "    def __init__(self,output_shape):\n",
    "        pass\n",
    "    \n",
    "class Active_function:\n",
    "    \n",
    "    def __init__(self):\n",
    "        pass\n",
    "    \n",
    "    class Relu:\n",
    "        \n",
    "        def __init__(self):\n",
    "            pass\n",
    "        \n",
    "    class Softmax:\n",
    "        \n",
    "        def __init__(self):\n",
    "            pass\n",
    "\n",
    "class Loss_function:\n",
    "    def __init__(self):\n",
    "        pass\n",
    "\n",
    "class Convolution:\n",
    "    \n",
    "    \n",
    "    def __init__(self,input_X):\n",
    "        \n",
    "        self.layers=[]\n",
    "        #包含卷积、池化、全连接、激活等这类作用的\n",
    "        self.function_layers=[]\n",
    "#         self.layers.append(input_X)\n",
    "    \n",
    "    def add_Convolution_kernel(self,shape):\n",
    "        self.function_layers.append(Convolution_kernel(shape))\n",
    "        \n",
    "    def add_Convolution_pooling(self,shape,stride):\n",
    "        self.function_layers.append(Convolution_pooling(shape,stride))\n",
    "        \n",
    "    def add_Full_connection(self,output_shape):\n",
    "        pass\n",
    "        \n",
    "        "
   ]
  },
  {
   "cell_type": "code",
   "execution_count": 12,
   "metadata": {},
   "outputs": [],
   "source": [
    "a=convolution()"
   ]
  },
  {
   "cell_type": "code",
   "execution_count": 13,
   "metadata": {},
   "outputs": [],
   "source": [
    "a.add_convolution_kernel(4)"
   ]
  },
  {
   "cell_type": "code",
   "execution_count": 14,
   "metadata": {},
   "outputs": [],
   "source": [
    "a.add_convolution_kernel(8)"
   ]
  },
  {
   "cell_type": "code",
   "execution_count": 15,
   "metadata": {},
   "outputs": [
    {
     "data": {
      "text/plain": [
       ""
      ]
     },
     "execution_count": 15,
     "metadata": {},
     "output_type": "execute_result"
    }
   ],
   "source": [
    ""
   ]
  },
  {
   "cell_type": "code",
   "execution_count": 7,
   "metadata": {},
   "outputs": [],
   "source": [
    ""
   ]
  },
  {
   "cell_type": "code",
   "execution_count": 8,
   "metadata": {},
   "outputs": [],
   "source": [
    ""
   ]
  },
  {
   "cell_type": "code",
   "execution_count": null,
   "metadata": {},
   "outputs": [],
   "source": []
  }
 ],
 "metadata": {
  "kernelspec": {
   "display_name": "Python 3",
   "language": "python",
   "name": "python3"
  },
  "language_info": {
   "codemirror_mode": {
    "name": "ipython",
    "version": 3
   },
   "file_extension": ".py",
   "mimetype": "text/x-python",
   "name": "python",
   "nbconvert_exporter": "python",
   "pygments_lexer": "ipython3",
   "version": "3.7.3"
  }
 },
 "nbformat": 4,
 "nbformat_minor": 2
}
